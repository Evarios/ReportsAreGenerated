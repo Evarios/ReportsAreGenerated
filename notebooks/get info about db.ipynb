{
 "cells": [
  {
   "cell_type": "code",
   "execution_count": 29,
   "metadata": {},
   "outputs": [],
   "source": [
    "import os\n",
    "import re\n",
    "import pandas as pd\n",
    "from dotenv import load_dotenv\n",
    "from sqlalchemy import create_engine, text\n",
    "\n",
    "load_dotenv()\n",
    "USERNAME = os.getenv(\"USERNAME\")\n",
    "PASSWORD = os.getenv(\"PGPASSWORD\")\n",
    "HOST = os.getenv(\"HOST\")\n",
    "PORT = os.getenv(\"PORT\")\n",
    "DATABASE = os.getenv(\"DATABASE\")\n",
    "URL = f\"postgresql://{USERNAME}:{PASSWORD}@{HOST}:{PORT}/{DATABASE}\"\n",
    "\n",
    "ENGINE = create_engine(URL)"
   ]
  },
  {
   "cell_type": "markdown",
   "metadata": {},
   "source": [
    "# Fetching constraints of database"
   ]
  },
  {
   "cell_type": "code",
   "execution_count": null,
   "metadata": {},
   "outputs": [],
   "source": [
    "query = \"\"\"\n",
    "SELECT \n",
    "    conname AS constraint_name,\n",
    "    contype AS constraint_type,\n",
    "    conrelid::regclass AS table_name,\n",
    "    CASE \n",
    "        WHEN contype IN ('f', 'c') THEN confrelid::regclass::text\n",
    "        ELSE NULL\n",
    "    END AS referenced_table,\n",
    "    conkey AS constraint_columns,\n",
    "    confkey AS referenced_columns\n",
    "FROM \n",
    "    pg_constraint\n",
    "WHERE \n",
    "    conrelid::regclass::text NOT LIKE 'pg_%'\n",
    "ORDER BY \n",
    "    conrelid::regclass::text, conname\n",
    "\"\"\"\n",
    "\n",
    "with ENGINE.connect() as conn:\n",
    "    constraints = pd.DataFrame(conn.execute(text(query)))\n",
    "\n",
    "constraints"
   ]
  },
  {
   "cell_type": "markdown",
   "metadata": {},
   "source": [
    "# Fetching column list from each table"
   ]
  },
  {
   "cell_type": "code",
   "execution_count": null,
   "metadata": {},
   "outputs": [],
   "source": [
    "query = \"\"\"\n",
    "SELECT\n",
    "    c.table_schema,\n",
    "    c.table_name,\n",
    "    string_agg(c.column_name || ' (' || c.data_type || ')', ', ' ORDER BY c.ordinal_position) AS column_list\n",
    "FROM\n",
    "    information_schema.columns AS c\n",
    "JOIN\n",
    "    information_schema.tables AS t\n",
    "    ON c.table_name = t.table_name\n",
    "    AND c.table_schema = t.table_schema\n",
    "WHERE\n",
    "    t.table_type = 'BASE TABLE'\n",
    "    AND t.table_schema NOT IN ('information_schema', 'pg_catalog')\n",
    "GROUP BY\n",
    "    c.table_schema,\n",
    "    c.table_name\n",
    "ORDER BY\n",
    "    c.table_schema,\n",
    "    c.table_name;\n",
    "\"\"\"\n",
    "\n",
    "with ENGINE.connect() as conn:\n",
    "    columns = pd.DataFrame(conn.execute(text(query)))\n",
    "\n",
    "columns[['table_name', 'column_list']].to_csv(\"../metadata/tables.txt\", index=False, sep=\"\\t\", header=False)\n",
    "columns"
   ]
  },
  {
   "cell_type": "markdown",
   "metadata": {},
   "source": [
    "# Saving constraint of database"
   ]
  },
  {
   "cell_type": "code",
   "execution_count": 32,
   "metadata": {},
   "outputs": [],
   "source": [
    "with open(\"../metadata/constraints.txt\", \"a\") as f:\n",
    "    for col in columns['table_name']:\n",
    "        consts = constraints[constraints['table_name'] == col]\n",
    "        for c in consts.iterrows():\n",
    "            if c[1]['constraint_type'] == 'p':\n",
    "                table_name = c[1]['table_name']\n",
    "                column_list = columns[columns['table_name'] == table_name]['column_list'].values[0].split(', ')\n",
    "                if len(c[1]['constraint_columns']) == 1:\n",
    "                    constrained_index = int(c[1]['constraint_columns'][0]-1)\n",
    "                else:\n",
    "                    continue\n",
    "                column_name = column_list[constrained_index]\n",
    "                f.write(f\"Column {column_name} is a primary key of the table {table_name}\\n\")\n",
    "            elif c[1]['constraint_type'] == 'f':\n",
    "\n",
    "                table_name = c[1]['table_name']\n",
    "                column_list = columns[columns['table_name'] == table_name]['column_list'].values[0].split(', ')\n",
    "                if len(c[1]['constraint_columns']) == 1:\n",
    "                    constrained_index = int(c[1]['constraint_columns'][0]-1)\n",
    "                else:\n",
    "                    continue\n",
    "                column_name = column_list[constrained_index]\n",
    "                referenced_table = c[1]['referenced_table']\n",
    "                referenced_columns = c[1]['referenced_columns']\n",
    "                referenced_column_list = columns[columns['table_name'] == referenced_table]['column_list'].values[0].split(', ')\n",
    "                referenced_column_name = referenced_column_list[referenced_columns[0]-1]\n",
    "                f.write(f\"Column {column_name} is a foreign key of the table {table_name} and references column {referenced_column_name} of the table {referenced_table}\\n\")\n"
   ]
  },
  {
   "cell_type": "markdown",
   "metadata": {},
   "source": [
    "# Executing PowerShell script"
   ]
  },
  {
   "cell_type": "code",
   "execution_count": null,
   "metadata": {},
   "outputs": [],
   "source": [
    "import subprocess\n",
    "\n",
    "script_path = '../scripts/postgres.ps1'\n",
    "\n",
    "result = subprocess.run(['powershell.exe', '-ExecutionPolicy', 'Unrestricted', '-File', script_path], capture_output=True, text=True)\n",
    "\n",
    "print(result.stderr)"
   ]
  },
  {
   "cell_type": "markdown",
   "metadata": {},
   "source": [
    "# Clearing `metadata.sql`"
   ]
  },
  {
   "cell_type": "code",
   "execution_count": null,
   "metadata": {},
   "outputs": [],
   "source": [
    "with open(\"../metadata/metadata.sql\", \"r\") as f:\n",
    "    metadata = f.read()\n",
    "    print(metadata.strip())"
   ]
  },
  {
   "cell_type": "code",
   "execution_count": 35,
   "metadata": {},
   "outputs": [],
   "source": [
    "import re\n",
    "\n",
    "def extract_create_table_statements(file_path, output_path):\n",
    "    with open(file_path, 'r') as file:\n",
    "        content = file.read()\n",
    "    \n",
    "    # Wyrażenie regularne do znalezienia poleceń CREATE TABLE\n",
    "    pattern = re.compile(r'CREATE TABLE[\\s\\S]*?;', re.MULTILINE)\n",
    "    matches = pattern.findall(content)\n",
    "\n",
    "    with open(output_path, 'w') as file:\n",
    "        for match in matches:\n",
    "            file.write(match + '\\n')\n",
    "\n",
    "# Wykonaj funkcję\n",
    "extract_create_table_statements('../metadata/metadata.sql', '../metadata/metadata.sql')\n"
   ]
  },
  {
   "cell_type": "code",
   "execution_count": null,
   "metadata": {},
   "outputs": [],
   "source": [
    "import os\n",
    "import pandas as pd\n",
    "from dotenv import load_dotenv\n",
    "import matplotlib.pyplot as plt\n",
    "from sqlalchemy import create_engine\n",
    "\n",
    "load_dotenv()\n",
    "\n",
    "USERNAME = os.getenv('PGUSERNAME')\n",
    "PASSWORD = os.getenv('PGPASSWORD')\n",
    "HOST = os.getenv('HOST')\n",
    "PORT = os.getenv('PORT')\n",
    "DATABASE = os.getenv('DATABASE')\n",
    "URL = f'postgresql://{USERNAME}:{PASSWORD}@{HOST}:{PORT}/{DATABASE}'\n",
    "\n",
    "engine = create_engine(URL)\n",
    "\n",
    "query = 'SELECT category.name, COUNT(film_category.film_id) AS film_count FROM film_category JOIN category ON film_category.category_id = category.category_id GROUP BY category.name ORDER BY film_count DESC NULLS LAST'\n",
    "\n",
    "df = pd.read_sql(query, engine)\n",
    "\n",
    "import matplotlib.pyplot as plt\n",
    "import seaborn as sns\n",
    "\n",
    "plt.style.use('ggplot')\n",
    "\n",
    "category = df['name']\n",
    "film_count = df['film_count']\n",
    "colors = sns.color_palette()\n",
    "plt.pie(x= film_count, labels=category, colors = colors)\n",
    "plt.title(\"Films by category\")\n",
    "plt.axis('equal')\n",
    "plt.tight_layout()\n",
    "plt.savefig('plot.png', format='png')\n",
    "plt.show()"
   ]
  },
  {
   "cell_type": "code",
   "execution_count": null,
   "metadata": {},
   "outputs": [],
   "source": [
    "data[1]"
   ]
  },
  {
   "cell_type": "code",
   "execution_count": null,
   "metadata": {},
   "outputs": [],
   "source": []
  }
 ],
 "metadata": {
  "kernelspec": {
   "display_name": "Python 3",
   "language": "python",
   "name": "python3"
  },
  "language_info": {
   "codemirror_mode": {
    "name": "ipython",
    "version": 3
   },
   "file_extension": ".py",
   "mimetype": "text/x-python",
   "name": "python",
   "nbconvert_exporter": "python",
   "pygments_lexer": "ipython3",
   "version": "3.12.4"
  }
 },
 "nbformat": 4,
 "nbformat_minor": 2
}
